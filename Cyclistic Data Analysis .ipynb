{
 "cells": [
  {
   "cell_type": "markdown",
   "id": "9bac2535",
   "metadata": {},
   "source": [
    "Goal: \n",
    "    Maximizing the number of annual memberships.\n",
    "    Design a new marketing strategy to convert casual riders into annual members. \n"
   ]
  },
  {
   "cell_type": "markdown",
   "id": "1011363c",
   "metadata": {},
   "source": [
    "About the company: \n",
    "So it has more than 3500 cycles and 600 docking stations.  Increased to 5824 cycles and 692 stations\n",
    "Uniqueness is, it offers: \n",
    "    1.\treclining bikes\n",
    "    2.\thand tricycles \n",
    "    3.\tcargo bikes \n",
    "Some stats about who rides for what purpose \n",
    "    •\tThe majority of riders opt for traditional bikes; about 8% of riders use the assistive options. \n",
    "    •\tAbout 30% use them to commute to work each day.\n",
    "Riding plans \n",
    "    1.\tSingle ride pass – Casual riders\n",
    "    2.\tFull day pass – Casual riders\n",
    "    3.\tAnnual membership \n"
   ]
  },
  {
   "cell_type": "markdown",
   "id": "d3de2d20",
   "metadata": {},
   "source": [
    "Last two years data provided for the analysis and following steps taken to understand the data and perform analysis on top of it. "
   ]
  },
  {
   "cell_type": "code",
   "execution_count": 1,
   "id": "48823746",
   "metadata": {},
   "outputs": [],
   "source": [
    "import pandas as pd \n",
    "import numpy as np "
   ]
  },
  {
   "cell_type": "code",
   "execution_count": 2,
   "id": "a01376b4",
   "metadata": {},
   "outputs": [],
   "source": [
    "#df1 = pd.read_csv('202001-3.csv')\n",
    "#df2 = pd.read_csv('202004-divvy-tripdata.csv')\n",
    "#df3 = pd.read_csv('202005-divvy-tripdata.csv')\n",
    "#df4 = pd.read_csv('202006-divvy-tripdata.csv')\n",
    "#df5 = pd.read_csv('202007-divvy-tripdata.csv')\n",
    "#df6 = pd.read_csv('202008-divvy-tripdata.csv')\n",
    "#df7 = pd.read_csv('202009-divvy-tripdata.csv')\n",
    "#df8 = pd.read_csv('202010-divvy-tripdata.csv')\n",
    "#df9 = pd.read_csv('202011-divvy-tripdata.csv')\n",
    "#df10 = pd.read_csv('202012-divvy-tripdata.csv')\n",
    "#df11 = pd.read_csv('202101-divvy-tripdata.csv')\n",
    "#df12 = pd.read_csv('202102-divvy-tripdata.csv')\n",
    "#df13 = pd.read_csv('202103-divvy-tripdata.csv')\n",
    "#df14 = pd.read_csv('202104-divvy-tripdata.csv')\n",
    "#df15 = pd.read_csv('202105-divvy-tripdata.csv')\n",
    "#df16 = pd.read_csv('202106-divvy-tripdata.csv')\n",
    "#df17 = pd.read_csv('202107-divvy-tripdata.csv')\n",
    "df18 = pd.read_csv('202108-divvy-tripdata.csv')\n",
    "df19 = pd.read_csv('202109-divvy-tripdata.csv')\n",
    "df20 = pd.read_csv('202110-divvy-tripdata.csv')\n",
    "df21 = pd.read_csv('202111-divvy-tripdata.csv')"
   ]
  },
  {
   "cell_type": "code",
   "execution_count": 3,
   "id": "f033ac50",
   "metadata": {},
   "outputs": [],
   "source": [
    "#frames = [df1,df2,df3,df4,df5,df6,df7,df8,df9,df10,df11,df12,df13,df14,df15,df16,df17,df18,df19,df20,df21]"
   ]
  },
  {
   "cell_type": "code",
   "execution_count": 6,
   "id": "87b9332c",
   "metadata": {},
   "outputs": [],
   "source": [
    "#data = pd.concat(frames, axis=0) -- My computer not able to process this much data"
   ]
  },
  {
   "cell_type": "code",
   "execution_count": 4,
   "id": "246a83f5",
   "metadata": {},
   "outputs": [],
   "source": [
    "frame1 = [df1,df2,df3,df4,df5,df6,df7,df8,df9,df10] # fragmented data yearly \n",
    "frame2 = [df11,df12,df13,df14,df15,df16,df17,df18,df19,df20,df21]"
   ]
  },
  {
   "cell_type": "code",
   "execution_count": 5,
   "id": "ffbd62f4",
   "metadata": {},
   "outputs": [],
   "source": [
    "data_2020 = pd.concat(frame1) # still my computer was taking lots of time "
   ]
  },
  {
   "cell_type": "code",
   "execution_count": 7,
   "id": "b29b0d39",
   "metadata": {},
   "outputs": [],
   "source": [
    "data_2021 = pd.concat(frame2)"
   ]
  },
  {
   "cell_type": "code",
   "execution_count": 10,
   "id": "b0d7812f",
   "metadata": {},
   "outputs": [
    {
     "data": {
      "text/plain": [
       "'C:\\\\Users\\\\R\\\\Downloads\\\\Passion\\\\Google Data Analysis Course\\\\Capstone Project\\\\Trip Data\\\\2020 Data'"
      ]
     },
     "execution_count": 10,
     "metadata": {},
     "output_type": "execute_result"
    }
   ],
   "source": [
    "import os\n",
    "os.getcwd()"
   ]
  },
  {
   "cell_type": "code",
   "execution_count": null,
   "id": "5a9e4a01",
   "metadata": {},
   "outputs": [],
   "source": [
    "Converted insduisval csv to yearly csv file for better understanding "
   ]
  },
  {
   "cell_type": "code",
   "execution_count": 11,
   "id": "2b6018a4",
   "metadata": {},
   "outputs": [],
   "source": [
    "data_2020.to_csv('C:\\\\Users\\\\R\\\\Downloads\\\\Passion\\\\Google Data Analysis Course\\\\Capstone Project\\\\Trip Data\\\\2020 Data.data_2020.csv')"
   ]
  },
  {
   "cell_type": "code",
   "execution_count": 13,
   "id": "d3f7a08e",
   "metadata": {},
   "outputs": [],
   "source": [
    "data_2021.to_csv('C:\\\\Users\\\\R\\\\Downloads\\\\Passion\\\\Google Data Analysis Course\\\\Capstone Project\\\\Trip Data\\\\2020 Data.data_2021.csv')"
   ]
  },
  {
   "cell_type": "code",
   "execution_count": 3,
   "id": "295ea181",
   "metadata": {},
   "outputs": [],
   "source": [
    "# Finally for the analysis data of Aug to nov 2021 taken\n",
    "frame = [df18,df19,df20,df21]"
   ]
  },
  {
   "cell_type": "code",
   "execution_count": 4,
   "id": "92b4d573",
   "metadata": {},
   "outputs": [],
   "source": [
    "data = pd.concat(frame, axis=0)"
   ]
  },
  {
   "cell_type": "code",
   "execution_count": 5,
   "id": "6d2f1be7",
   "metadata": {
    "scrolled": true
   },
   "outputs": [
    {
     "data": {
      "text/html": [
       "<div>\n",
       "<style scoped>\n",
       "    .dataframe tbody tr th:only-of-type {\n",
       "        vertical-align: middle;\n",
       "    }\n",
       "\n",
       "    .dataframe tbody tr th {\n",
       "        vertical-align: top;\n",
       "    }\n",
       "\n",
       "    .dataframe thead th {\n",
       "        text-align: right;\n",
       "    }\n",
       "</style>\n",
       "<table border=\"1\" class=\"dataframe\">\n",
       "  <thead>\n",
       "    <tr style=\"text-align: right;\">\n",
       "      <th></th>\n",
       "      <th>ride_id</th>\n",
       "      <th>rideable_type</th>\n",
       "      <th>started_at</th>\n",
       "      <th>ended_at</th>\n",
       "      <th>start_station_name</th>\n",
       "      <th>start_station_id</th>\n",
       "      <th>end_station_name</th>\n",
       "      <th>end_station_id</th>\n",
       "      <th>start_lat</th>\n",
       "      <th>start_lng</th>\n",
       "      <th>end_lat</th>\n",
       "      <th>end_lng</th>\n",
       "      <th>member_casual</th>\n",
       "      <th>trip_duration</th>\n",
       "    </tr>\n",
       "  </thead>\n",
       "  <tbody>\n",
       "    <tr>\n",
       "      <th>0</th>\n",
       "      <td>99103BB87CC6C1BB</td>\n",
       "      <td>electric_bike</td>\n",
       "      <td>2021-08-10 17:15:49</td>\n",
       "      <td>2021-08-10 17:22:44</td>\n",
       "      <td>NaN</td>\n",
       "      <td>NaN</td>\n",
       "      <td>NaN</td>\n",
       "      <td>NaN</td>\n",
       "      <td>41.77</td>\n",
       "      <td>-87.68</td>\n",
       "      <td>41.77</td>\n",
       "      <td>-87.68</td>\n",
       "      <td>member</td>\n",
       "      <td>0 days 00:06:55</td>\n",
       "    </tr>\n",
       "    <tr>\n",
       "      <th>1</th>\n",
       "      <td>EAFCCCFB0A3FC5A1</td>\n",
       "      <td>electric_bike</td>\n",
       "      <td>2021-08-10 17:23:14</td>\n",
       "      <td>2021-08-10 17:39:24</td>\n",
       "      <td>NaN</td>\n",
       "      <td>NaN</td>\n",
       "      <td>NaN</td>\n",
       "      <td>NaN</td>\n",
       "      <td>41.77</td>\n",
       "      <td>-87.68</td>\n",
       "      <td>41.77</td>\n",
       "      <td>-87.63</td>\n",
       "      <td>member</td>\n",
       "      <td>0 days 00:16:10</td>\n",
       "    </tr>\n",
       "    <tr>\n",
       "      <th>2</th>\n",
       "      <td>9EF4F46C57AD234D</td>\n",
       "      <td>electric_bike</td>\n",
       "      <td>2021-08-21 02:34:23</td>\n",
       "      <td>2021-08-21 02:50:36</td>\n",
       "      <td>NaN</td>\n",
       "      <td>NaN</td>\n",
       "      <td>NaN</td>\n",
       "      <td>NaN</td>\n",
       "      <td>41.95</td>\n",
       "      <td>-87.65</td>\n",
       "      <td>41.97</td>\n",
       "      <td>-87.66</td>\n",
       "      <td>member</td>\n",
       "      <td>0 days 00:16:13</td>\n",
       "    </tr>\n",
       "    <tr>\n",
       "      <th>3</th>\n",
       "      <td>5834D3208BFAF1DA</td>\n",
       "      <td>electric_bike</td>\n",
       "      <td>2021-08-21 06:52:55</td>\n",
       "      <td>2021-08-21 07:08:13</td>\n",
       "      <td>NaN</td>\n",
       "      <td>NaN</td>\n",
       "      <td>NaN</td>\n",
       "      <td>NaN</td>\n",
       "      <td>41.97</td>\n",
       "      <td>-87.67</td>\n",
       "      <td>41.95</td>\n",
       "      <td>-87.65</td>\n",
       "      <td>member</td>\n",
       "      <td>0 days 00:15:18</td>\n",
       "    </tr>\n",
       "    <tr>\n",
       "      <th>4</th>\n",
       "      <td>CD825CB87ED1D096</td>\n",
       "      <td>electric_bike</td>\n",
       "      <td>2021-08-19 11:55:29</td>\n",
       "      <td>2021-08-19 12:04:11</td>\n",
       "      <td>NaN</td>\n",
       "      <td>NaN</td>\n",
       "      <td>NaN</td>\n",
       "      <td>NaN</td>\n",
       "      <td>41.79</td>\n",
       "      <td>-87.60</td>\n",
       "      <td>41.77</td>\n",
       "      <td>-87.62</td>\n",
       "      <td>member</td>\n",
       "      <td>0 days 00:08:42</td>\n",
       "    </tr>\n",
       "  </tbody>\n",
       "</table>\n",
       "</div>"
      ],
      "text/plain": [
       "            ride_id  rideable_type           started_at             ended_at  \\\n",
       "0  99103BB87CC6C1BB  electric_bike  2021-08-10 17:15:49  2021-08-10 17:22:44   \n",
       "1  EAFCCCFB0A3FC5A1  electric_bike  2021-08-10 17:23:14  2021-08-10 17:39:24   \n",
       "2  9EF4F46C57AD234D  electric_bike  2021-08-21 02:34:23  2021-08-21 02:50:36   \n",
       "3  5834D3208BFAF1DA  electric_bike  2021-08-21 06:52:55  2021-08-21 07:08:13   \n",
       "4  CD825CB87ED1D096  electric_bike  2021-08-19 11:55:29  2021-08-19 12:04:11   \n",
       "\n",
       "  start_station_name start_station_id end_station_name end_station_id  \\\n",
       "0                NaN              NaN              NaN            NaN   \n",
       "1                NaN              NaN              NaN            NaN   \n",
       "2                NaN              NaN              NaN            NaN   \n",
       "3                NaN              NaN              NaN            NaN   \n",
       "4                NaN              NaN              NaN            NaN   \n",
       "\n",
       "   start_lat  start_lng  end_lat  end_lng member_casual   trip_duration  \n",
       "0      41.77     -87.68    41.77   -87.68        member 0 days 00:06:55  \n",
       "1      41.77     -87.68    41.77   -87.63        member 0 days 00:16:10  \n",
       "2      41.95     -87.65    41.97   -87.66        member 0 days 00:16:13  \n",
       "3      41.97     -87.67    41.95   -87.65        member 0 days 00:15:18  \n",
       "4      41.79     -87.60    41.77   -87.62        member 0 days 00:08:42  "
      ]
     },
     "execution_count": 5,
     "metadata": {},
     "output_type": "execute_result"
    }
   ],
   "source": [
    "data['trip_duration'] = pd.to_datetime(data.ended_at) - pd.to_datetime(data.started_at)\n",
    "data.head()"
   ]
  },
  {
   "cell_type": "code",
   "execution_count": 6,
   "id": "dfd7fd8f",
   "metadata": {},
   "outputs": [
    {
     "data": {
      "text/plain": [
       "ride_id                        object\n",
       "rideable_type                  object\n",
       "started_at                     object\n",
       "ended_at                       object\n",
       "start_station_name             object\n",
       "start_station_id               object\n",
       "end_station_name               object\n",
       "end_station_id                 object\n",
       "start_lat                     float64\n",
       "start_lng                     float64\n",
       "end_lat                       float64\n",
       "end_lng                       float64\n",
       "member_casual                  object\n",
       "trip_duration         timedelta64[ns]\n",
       "dtype: object"
      ]
     },
     "execution_count": 6,
     "metadata": {},
     "output_type": "execute_result"
    }
   ],
   "source": [
    "data.dtypes"
   ]
  },
  {
   "cell_type": "code",
   "execution_count": 6,
   "id": "b9606cbf",
   "metadata": {},
   "outputs": [],
   "source": [
    "data['trip_duration_seconds'] = data.trip_duration.dt.seconds"
   ]
  },
  {
   "cell_type": "code",
   "execution_count": 16,
   "id": "1dd5b847",
   "metadata": {},
   "outputs": [
    {
     "data": {
      "text/plain": [
       "ride_id                       0\n",
       "rideable_type                 0\n",
       "started_at                    0\n",
       "ended_at                      0\n",
       "start_station_name       365071\n",
       "start_station_id         365069\n",
       "end_station_name         387397\n",
       "end_station_id           387397\n",
       "start_lat                     0\n",
       "start_lng                     0\n",
       "end_lat                    1976\n",
       "end_lng                    1976\n",
       "member_casual                 0\n",
       "trip_duration                 0\n",
       "trip_duration_seconds         0\n",
       "dtype: int64"
      ]
     },
     "execution_count": 16,
     "metadata": {},
     "output_type": "execute_result"
    }
   ],
   "source": [
    "data.isnull().sum()"
   ]
  },
  {
   "cell_type": "code",
   "execution_count": 7,
   "id": "f9d2c80f",
   "metadata": {},
   "outputs": [],
   "source": [
    "data.dropna(inplace=True)"
   ]
  },
  {
   "cell_type": "code",
   "execution_count": null,
   "id": "236c3400",
   "metadata": {},
   "outputs": [],
   "source": []
  },
  {
   "cell_type": "code",
   "execution_count": 8,
   "id": "797a5f73",
   "metadata": {},
   "outputs": [],
   "source": [
    "data.started_at = pd.to_datetime(data.started_at)"
   ]
  },
  {
   "cell_type": "code",
   "execution_count": 9,
   "id": "63d9a5ca",
   "metadata": {},
   "outputs": [],
   "source": [
    "data['weekday'] = data.started_at.dt.weekday"
   ]
  },
  {
   "cell_type": "code",
   "execution_count": 50,
   "id": "d9cea2e6",
   "metadata": {},
   "outputs": [
    {
     "data": {
      "text/html": [
       "<div>\n",
       "<style scoped>\n",
       "    .dataframe tbody tr th:only-of-type {\n",
       "        vertical-align: middle;\n",
       "    }\n",
       "\n",
       "    .dataframe tbody tr th {\n",
       "        vertical-align: top;\n",
       "    }\n",
       "\n",
       "    .dataframe thead th {\n",
       "        text-align: right;\n",
       "    }\n",
       "</style>\n",
       "<table border=\"1\" class=\"dataframe\">\n",
       "  <thead>\n",
       "    <tr style=\"text-align: right;\">\n",
       "      <th></th>\n",
       "      <th>ride_id</th>\n",
       "      <th>rideable_type</th>\n",
       "      <th>started_at</th>\n",
       "      <th>ended_at</th>\n",
       "      <th>start_station_name</th>\n",
       "      <th>start_station_id</th>\n",
       "      <th>end_station_name</th>\n",
       "      <th>end_station_id</th>\n",
       "      <th>start_lat</th>\n",
       "      <th>start_lng</th>\n",
       "      <th>end_lat</th>\n",
       "      <th>end_lng</th>\n",
       "      <th>member_casual</th>\n",
       "      <th>trip_duration</th>\n",
       "      <th>trip_duration_seconds</th>\n",
       "      <th>weekday</th>\n",
       "    </tr>\n",
       "  </thead>\n",
       "  <tbody>\n",
       "    <tr>\n",
       "      <th>30</th>\n",
       "      <td>DD06751C6019D865</td>\n",
       "      <td>classic_bike</td>\n",
       "      <td>2021-08-08 17:21:26</td>\n",
       "      <td>2021-08-08 17:25:37</td>\n",
       "      <td>Desplaines St &amp; Kinzie St</td>\n",
       "      <td>TA1306000003</td>\n",
       "      <td>Kingsbury St &amp; Kinzie St</td>\n",
       "      <td>KA1503000043</td>\n",
       "      <td>41.888716</td>\n",
       "      <td>-87.644448</td>\n",
       "      <td>41.889177</td>\n",
       "      <td>-87.638506</td>\n",
       "      <td>member</td>\n",
       "      <td>0 days 00:04:11</td>\n",
       "      <td>251</td>\n",
       "      <td>6</td>\n",
       "    </tr>\n",
       "    <tr>\n",
       "      <th>36</th>\n",
       "      <td>79973DC3B232048F</td>\n",
       "      <td>classic_bike</td>\n",
       "      <td>2021-08-27 08:53:52</td>\n",
       "      <td>2021-08-27 09:18:29</td>\n",
       "      <td>Larrabee St &amp; Armitage Ave</td>\n",
       "      <td>TA1309000006</td>\n",
       "      <td>Michigan Ave &amp; Oak St</td>\n",
       "      <td>13042</td>\n",
       "      <td>41.918084</td>\n",
       "      <td>-87.643749</td>\n",
       "      <td>41.900960</td>\n",
       "      <td>-87.623777</td>\n",
       "      <td>member</td>\n",
       "      <td>0 days 00:24:37</td>\n",
       "      <td>1477</td>\n",
       "      <td>4</td>\n",
       "    </tr>\n",
       "    <tr>\n",
       "      <th>40</th>\n",
       "      <td>0249AD4B258806AD</td>\n",
       "      <td>classic_bike</td>\n",
       "      <td>2021-08-08 12:59:18</td>\n",
       "      <td>2021-08-08 12:59:55</td>\n",
       "      <td>Aberdeen St &amp; Jackson Blvd</td>\n",
       "      <td>13157</td>\n",
       "      <td>Aberdeen St &amp; Jackson Blvd</td>\n",
       "      <td>13157</td>\n",
       "      <td>41.877726</td>\n",
       "      <td>-87.654787</td>\n",
       "      <td>41.877726</td>\n",
       "      <td>-87.654787</td>\n",
       "      <td>member</td>\n",
       "      <td>0 days 00:00:37</td>\n",
       "      <td>37</td>\n",
       "      <td>6</td>\n",
       "    </tr>\n",
       "    <tr>\n",
       "      <th>72</th>\n",
       "      <td>F41EB054E44ACFDA</td>\n",
       "      <td>classic_bike</td>\n",
       "      <td>2021-08-12 16:52:09</td>\n",
       "      <td>2021-08-12 16:56:51</td>\n",
       "      <td>Michigan Ave &amp; Oak St</td>\n",
       "      <td>13042</td>\n",
       "      <td>Michigan Ave &amp; Oak St</td>\n",
       "      <td>13042</td>\n",
       "      <td>41.900960</td>\n",
       "      <td>-87.623777</td>\n",
       "      <td>41.900960</td>\n",
       "      <td>-87.623777</td>\n",
       "      <td>casual</td>\n",
       "      <td>0 days 00:04:42</td>\n",
       "      <td>282</td>\n",
       "      <td>3</td>\n",
       "    </tr>\n",
       "    <tr>\n",
       "      <th>121</th>\n",
       "      <td>B149E6C71A1C3B14</td>\n",
       "      <td>classic_bike</td>\n",
       "      <td>2021-08-23 15:33:04</td>\n",
       "      <td>2021-08-23 16:09:00</td>\n",
       "      <td>Michigan Ave &amp; Oak St</td>\n",
       "      <td>13042</td>\n",
       "      <td>Michigan Ave &amp; Oak St</td>\n",
       "      <td>13042</td>\n",
       "      <td>41.900960</td>\n",
       "      <td>-87.623777</td>\n",
       "      <td>41.900960</td>\n",
       "      <td>-87.623777</td>\n",
       "      <td>casual</td>\n",
       "      <td>0 days 00:35:56</td>\n",
       "      <td>2156</td>\n",
       "      <td>0</td>\n",
       "    </tr>\n",
       "    <tr>\n",
       "      <th>...</th>\n",
       "      <td>...</td>\n",
       "      <td>...</td>\n",
       "      <td>...</td>\n",
       "      <td>...</td>\n",
       "      <td>...</td>\n",
       "      <td>...</td>\n",
       "      <td>...</td>\n",
       "      <td>...</td>\n",
       "      <td>...</td>\n",
       "      <td>...</td>\n",
       "      <td>...</td>\n",
       "      <td>...</td>\n",
       "      <td>...</td>\n",
       "      <td>...</td>\n",
       "      <td>...</td>\n",
       "      <td>...</td>\n",
       "    </tr>\n",
       "    <tr>\n",
       "      <th>359956</th>\n",
       "      <td>03F06D61B2215C92</td>\n",
       "      <td>electric_bike</td>\n",
       "      <td>2021-11-02 13:50:48</td>\n",
       "      <td>2021-11-02 13:55:11</td>\n",
       "      <td>Green St &amp; Randolph St</td>\n",
       "      <td>13053</td>\n",
       "      <td>Kingsbury St &amp; Kinzie St</td>\n",
       "      <td>KA1503000043</td>\n",
       "      <td>41.883510</td>\n",
       "      <td>-87.648568</td>\n",
       "      <td>41.889181</td>\n",
       "      <td>-87.638859</td>\n",
       "      <td>member</td>\n",
       "      <td>0 days 00:04:23</td>\n",
       "      <td>263</td>\n",
       "      <td>1</td>\n",
       "    </tr>\n",
       "    <tr>\n",
       "      <th>359961</th>\n",
       "      <td>B102144E454381D4</td>\n",
       "      <td>classic_bike</td>\n",
       "      <td>2021-11-03 17:28:57</td>\n",
       "      <td>2021-11-03 17:45:13</td>\n",
       "      <td>Elston Ave &amp; Cortland St</td>\n",
       "      <td>TA1305000039</td>\n",
       "      <td>Wells St &amp; Walton St</td>\n",
       "      <td>TA1306000011</td>\n",
       "      <td>41.916433</td>\n",
       "      <td>-87.666746</td>\n",
       "      <td>41.899930</td>\n",
       "      <td>-87.634430</td>\n",
       "      <td>casual</td>\n",
       "      <td>0 days 00:16:16</td>\n",
       "      <td>976</td>\n",
       "      <td>2</td>\n",
       "    </tr>\n",
       "    <tr>\n",
       "      <th>359964</th>\n",
       "      <td>29EB49CAC5219D45</td>\n",
       "      <td>docked_bike</td>\n",
       "      <td>2021-11-07 11:55:24</td>\n",
       "      <td>2021-11-07 12:05:54</td>\n",
       "      <td>Desplaines St &amp; Randolph St</td>\n",
       "      <td>15535</td>\n",
       "      <td>Aberdeen St &amp; Jackson Blvd</td>\n",
       "      <td>13157</td>\n",
       "      <td>41.884616</td>\n",
       "      <td>-87.644571</td>\n",
       "      <td>41.877726</td>\n",
       "      <td>-87.654787</td>\n",
       "      <td>casual</td>\n",
       "      <td>0 days 00:10:30</td>\n",
       "      <td>630</td>\n",
       "      <td>6</td>\n",
       "    </tr>\n",
       "    <tr>\n",
       "      <th>359966</th>\n",
       "      <td>F4B91264B3D8FA9F</td>\n",
       "      <td>electric_bike</td>\n",
       "      <td>2021-11-22 18:03:27</td>\n",
       "      <td>2021-11-22 18:06:36</td>\n",
       "      <td>Ogden Ave &amp; Chicago Ave</td>\n",
       "      <td>TA1305000020</td>\n",
       "      <td>Desplaines St &amp; Kinzie St</td>\n",
       "      <td>TA1306000003</td>\n",
       "      <td>41.896442</td>\n",
       "      <td>-87.653998</td>\n",
       "      <td>41.888691</td>\n",
       "      <td>-87.644465</td>\n",
       "      <td>member</td>\n",
       "      <td>0 days 00:03:09</td>\n",
       "      <td>189</td>\n",
       "      <td>0</td>\n",
       "    </tr>\n",
       "    <tr>\n",
       "      <th>359967</th>\n",
       "      <td>531611D40E3A17ED</td>\n",
       "      <td>electric_bike</td>\n",
       "      <td>2021-11-23 12:41:48</td>\n",
       "      <td>2021-11-23 12:45:13</td>\n",
       "      <td>Ogden Ave &amp; Chicago Ave</td>\n",
       "      <td>TA1305000020</td>\n",
       "      <td>Desplaines St &amp; Kinzie St</td>\n",
       "      <td>TA1306000003</td>\n",
       "      <td>41.896366</td>\n",
       "      <td>-87.654123</td>\n",
       "      <td>41.888701</td>\n",
       "      <td>-87.644504</td>\n",
       "      <td>member</td>\n",
       "      <td>0 days 00:03:25</td>\n",
       "      <td>205</td>\n",
       "      <td>1</td>\n",
       "    </tr>\n",
       "  </tbody>\n",
       "</table>\n",
       "<p>2029435 rows × 16 columns</p>\n",
       "</div>"
      ],
      "text/plain": [
       "                 ride_id  rideable_type          started_at  \\\n",
       "30      DD06751C6019D865   classic_bike 2021-08-08 17:21:26   \n",
       "36      79973DC3B232048F   classic_bike 2021-08-27 08:53:52   \n",
       "40      0249AD4B258806AD   classic_bike 2021-08-08 12:59:18   \n",
       "72      F41EB054E44ACFDA   classic_bike 2021-08-12 16:52:09   \n",
       "121     B149E6C71A1C3B14   classic_bike 2021-08-23 15:33:04   \n",
       "...                  ...            ...                 ...   \n",
       "359956  03F06D61B2215C92  electric_bike 2021-11-02 13:50:48   \n",
       "359961  B102144E454381D4   classic_bike 2021-11-03 17:28:57   \n",
       "359964  29EB49CAC5219D45    docked_bike 2021-11-07 11:55:24   \n",
       "359966  F4B91264B3D8FA9F  electric_bike 2021-11-22 18:03:27   \n",
       "359967  531611D40E3A17ED  electric_bike 2021-11-23 12:41:48   \n",
       "\n",
       "                   ended_at           start_station_name start_station_id  \\\n",
       "30      2021-08-08 17:25:37    Desplaines St & Kinzie St     TA1306000003   \n",
       "36      2021-08-27 09:18:29   Larrabee St & Armitage Ave     TA1309000006   \n",
       "40      2021-08-08 12:59:55   Aberdeen St & Jackson Blvd            13157   \n",
       "72      2021-08-12 16:56:51        Michigan Ave & Oak St            13042   \n",
       "121     2021-08-23 16:09:00        Michigan Ave & Oak St            13042   \n",
       "...                     ...                          ...              ...   \n",
       "359956  2021-11-02 13:55:11       Green St & Randolph St            13053   \n",
       "359961  2021-11-03 17:45:13     Elston Ave & Cortland St     TA1305000039   \n",
       "359964  2021-11-07 12:05:54  Desplaines St & Randolph St            15535   \n",
       "359966  2021-11-22 18:06:36      Ogden Ave & Chicago Ave     TA1305000020   \n",
       "359967  2021-11-23 12:45:13      Ogden Ave & Chicago Ave     TA1305000020   \n",
       "\n",
       "                  end_station_name end_station_id  start_lat  start_lng  \\\n",
       "30        Kingsbury St & Kinzie St   KA1503000043  41.888716 -87.644448   \n",
       "36           Michigan Ave & Oak St          13042  41.918084 -87.643749   \n",
       "40      Aberdeen St & Jackson Blvd          13157  41.877726 -87.654787   \n",
       "72           Michigan Ave & Oak St          13042  41.900960 -87.623777   \n",
       "121          Michigan Ave & Oak St          13042  41.900960 -87.623777   \n",
       "...                            ...            ...        ...        ...   \n",
       "359956    Kingsbury St & Kinzie St   KA1503000043  41.883510 -87.648568   \n",
       "359961        Wells St & Walton St   TA1306000011  41.916433 -87.666746   \n",
       "359964  Aberdeen St & Jackson Blvd          13157  41.884616 -87.644571   \n",
       "359966   Desplaines St & Kinzie St   TA1306000003  41.896442 -87.653998   \n",
       "359967   Desplaines St & Kinzie St   TA1306000003  41.896366 -87.654123   \n",
       "\n",
       "          end_lat    end_lng member_casual   trip_duration  \\\n",
       "30      41.889177 -87.638506        member 0 days 00:04:11   \n",
       "36      41.900960 -87.623777        member 0 days 00:24:37   \n",
       "40      41.877726 -87.654787        member 0 days 00:00:37   \n",
       "72      41.900960 -87.623777        casual 0 days 00:04:42   \n",
       "121     41.900960 -87.623777        casual 0 days 00:35:56   \n",
       "...           ...        ...           ...             ...   \n",
       "359956  41.889181 -87.638859        member 0 days 00:04:23   \n",
       "359961  41.899930 -87.634430        casual 0 days 00:16:16   \n",
       "359964  41.877726 -87.654787        casual 0 days 00:10:30   \n",
       "359966  41.888691 -87.644465        member 0 days 00:03:09   \n",
       "359967  41.888701 -87.644504        member 0 days 00:03:25   \n",
       "\n",
       "        trip_duration_seconds  weekday  \n",
       "30                        251        6  \n",
       "36                       1477        4  \n",
       "40                         37        6  \n",
       "72                        282        3  \n",
       "121                      2156        0  \n",
       "...                       ...      ...  \n",
       "359956                    263        1  \n",
       "359961                    976        2  \n",
       "359964                    630        6  \n",
       "359966                    189        0  \n",
       "359967                    205        1  \n",
       "\n",
       "[2029435 rows x 16 columns]"
      ]
     },
     "execution_count": 50,
     "metadata": {},
     "output_type": "execute_result"
    }
   ],
   "source": [
    "data"
   ]
  },
  {
   "cell_type": "markdown",
   "id": "eb4abf4b",
   "metadata": {},
   "source": [
    "Data Preparation is done, Let us start Analysis of the data "
   ]
  },
  {
   "cell_type": "code",
   "execution_count": 30,
   "id": "8a8feeef",
   "metadata": {},
   "outputs": [
    {
     "data": {
      "text/plain": [
       "member_casual\n",
       "casual    1556.418019\n",
       "member     760.940262\n",
       "Name: trip_duration_seconds, dtype: float64"
      ]
     },
     "execution_count": 30,
     "metadata": {},
     "output_type": "execute_result"
    }
   ],
   "source": [
    "viz1 = data.groupby(['member_casual'])['trip_duration_seconds'].mean()\n",
    "viz1"
   ]
  },
  {
   "cell_type": "code",
   "execution_count": 108,
   "id": "3989a504",
   "metadata": {},
   "outputs": [
    {
     "data": {
      "text/html": [
       "<div>\n",
       "<style scoped>\n",
       "    .dataframe tbody tr th:only-of-type {\n",
       "        vertical-align: middle;\n",
       "    }\n",
       "\n",
       "    .dataframe tbody tr th {\n",
       "        vertical-align: top;\n",
       "    }\n",
       "\n",
       "    .dataframe thead th {\n",
       "        text-align: right;\n",
       "    }\n",
       "</style>\n",
       "<table border=\"1\" class=\"dataframe\">\n",
       "  <thead>\n",
       "    <tr style=\"text-align: right;\">\n",
       "      <th>member_casual</th>\n",
       "      <th>casual</th>\n",
       "      <th>member</th>\n",
       "    </tr>\n",
       "    <tr>\n",
       "      <th>weekday</th>\n",
       "      <th></th>\n",
       "      <th></th>\n",
       "    </tr>\n",
       "  </thead>\n",
       "  <tbody>\n",
       "    <tr>\n",
       "      <th>0</th>\n",
       "      <td>1565.613945</td>\n",
       "      <td>729.461019</td>\n",
       "    </tr>\n",
       "    <tr>\n",
       "      <th>1</th>\n",
       "      <td>1333.293739</td>\n",
       "      <td>697.230397</td>\n",
       "    </tr>\n",
       "    <tr>\n",
       "      <th>2</th>\n",
       "      <td>1315.967170</td>\n",
       "      <td>730.009595</td>\n",
       "    </tr>\n",
       "    <tr>\n",
       "      <th>3</th>\n",
       "      <td>1341.768787</td>\n",
       "      <td>715.372753</td>\n",
       "    </tr>\n",
       "    <tr>\n",
       "      <th>4</th>\n",
       "      <td>1465.901331</td>\n",
       "      <td>743.216563</td>\n",
       "    </tr>\n",
       "    <tr>\n",
       "      <th>5</th>\n",
       "      <td>1694.237396</td>\n",
       "      <td>855.234649</td>\n",
       "    </tr>\n",
       "    <tr>\n",
       "      <th>6</th>\n",
       "      <td>1814.165439</td>\n",
       "      <td>886.136084</td>\n",
       "    </tr>\n",
       "  </tbody>\n",
       "</table>\n",
       "</div>"
      ],
      "text/plain": [
       "member_casual       casual      member\n",
       "weekday                               \n",
       "0              1565.613945  729.461019\n",
       "1              1333.293739  697.230397\n",
       "2              1315.967170  730.009595\n",
       "3              1341.768787  715.372753\n",
       "4              1465.901331  743.216563\n",
       "5              1694.237396  855.234649\n",
       "6              1814.165439  886.136084"
      ]
     },
     "execution_count": 108,
     "metadata": {},
     "output_type": "execute_result"
    }
   ],
   "source": [
    "viz2= data.pivot_table(values='trip_duration_seconds', index='weekday',\n",
    "    columns='member_casual',\n",
    "    aggfunc='mean')\n",
    "viz2"
   ]
  },
  {
   "cell_type": "code",
   "execution_count": 55,
   "id": "00716f2c",
   "metadata": {},
   "outputs": [
    {
     "data": {
      "text/plain": [
       "weekday\n",
       "0    257715\n",
       "1    272823\n",
       "2    273378\n",
       "3    264991\n",
       "4    280100\n",
       "5    354624\n",
       "6    325804\n",
       "Name: member_casual, dtype: int64"
      ]
     },
     "execution_count": 55,
     "metadata": {},
     "output_type": "execute_result"
    }
   ],
   "source": [
    "data.groupby(['weekday'])['member_casual'].count()"
   ]
  },
  {
   "cell_type": "code",
   "execution_count": 11,
   "id": "f8760e9d",
   "metadata": {},
   "outputs": [
    {
     "data": {
      "text/plain": [
       "member_casual\n",
       "casual     893502\n",
       "member    1135933\n",
       "Name: weekday, dtype: int64"
      ]
     },
     "execution_count": 11,
     "metadata": {},
     "output_type": "execute_result"
    }
   ],
   "source": [
    "viz4 = data.groupby('member_casual')['weekday'].count()\n",
    "viz4"
   ]
  },
  {
   "cell_type": "code",
   "execution_count": 59,
   "id": "9a1f6339",
   "metadata": {},
   "outputs": [
    {
     "data": {
      "text/html": [
       "<div>\n",
       "<style scoped>\n",
       "    .dataframe tbody tr th:only-of-type {\n",
       "        vertical-align: middle;\n",
       "    }\n",
       "\n",
       "    .dataframe tbody tr th {\n",
       "        vertical-align: top;\n",
       "    }\n",
       "\n",
       "    .dataframe thead th {\n",
       "        text-align: right;\n",
       "    }\n",
       "</style>\n",
       "<table border=\"1\" class=\"dataframe\">\n",
       "  <thead>\n",
       "    <tr style=\"text-align: right;\">\n",
       "      <th></th>\n",
       "      <th></th>\n",
       "      <th>started_at</th>\n",
       "    </tr>\n",
       "    <tr>\n",
       "      <th>member_casual</th>\n",
       "      <th>weekday</th>\n",
       "      <th></th>\n",
       "    </tr>\n",
       "  </thead>\n",
       "  <tbody>\n",
       "    <tr>\n",
       "      <th rowspan=\"7\" valign=\"top\">casual</th>\n",
       "      <th>0</th>\n",
       "      <td>99574</td>\n",
       "    </tr>\n",
       "    <tr>\n",
       "      <th>1</th>\n",
       "      <td>91115</td>\n",
       "    </tr>\n",
       "    <tr>\n",
       "      <th>2</th>\n",
       "      <td>94853</td>\n",
       "    </tr>\n",
       "    <tr>\n",
       "      <th>3</th>\n",
       "      <td>99804</td>\n",
       "    </tr>\n",
       "    <tr>\n",
       "      <th>4</th>\n",
       "      <td>124284</td>\n",
       "    </tr>\n",
       "    <tr>\n",
       "      <th>5</th>\n",
       "      <td>200517</td>\n",
       "    </tr>\n",
       "    <tr>\n",
       "      <th>6</th>\n",
       "      <td>183355</td>\n",
       "    </tr>\n",
       "    <tr>\n",
       "      <th rowspan=\"7\" valign=\"top\">member</th>\n",
       "      <th>0</th>\n",
       "      <td>158141</td>\n",
       "    </tr>\n",
       "    <tr>\n",
       "      <th>1</th>\n",
       "      <td>181708</td>\n",
       "    </tr>\n",
       "    <tr>\n",
       "      <th>2</th>\n",
       "      <td>178525</td>\n",
       "    </tr>\n",
       "    <tr>\n",
       "      <th>3</th>\n",
       "      <td>165187</td>\n",
       "    </tr>\n",
       "    <tr>\n",
       "      <th>4</th>\n",
       "      <td>155816</td>\n",
       "    </tr>\n",
       "    <tr>\n",
       "      <th>5</th>\n",
       "      <td>154107</td>\n",
       "    </tr>\n",
       "    <tr>\n",
       "      <th>6</th>\n",
       "      <td>142449</td>\n",
       "    </tr>\n",
       "  </tbody>\n",
       "</table>\n",
       "</div>"
      ],
      "text/plain": [
       "                       started_at\n",
       "member_casual weekday            \n",
       "casual        0             99574\n",
       "              1             91115\n",
       "              2             94853\n",
       "              3             99804\n",
       "              4            124284\n",
       "              5            200517\n",
       "              6            183355\n",
       "member        0            158141\n",
       "              1            181708\n",
       "              2            178525\n",
       "              3            165187\n",
       "              4            155816\n",
       "              5            154107\n",
       "              6            142449"
      ]
     },
     "execution_count": 59,
     "metadata": {},
     "output_type": "execute_result"
    }
   ],
   "source": [
    "data.groupby(['member_casual','weekday'])[['started_at']].count()"
   ]
  },
  {
   "cell_type": "code",
   "execution_count": 123,
   "id": "a5772bbd",
   "metadata": {},
   "outputs": [
    {
     "data": {
      "text/html": [
       "<div>\n",
       "<style scoped>\n",
       "    .dataframe tbody tr th:only-of-type {\n",
       "        vertical-align: middle;\n",
       "    }\n",
       "\n",
       "    .dataframe tbody tr th {\n",
       "        vertical-align: top;\n",
       "    }\n",
       "\n",
       "    .dataframe thead th {\n",
       "        text-align: right;\n",
       "    }\n",
       "</style>\n",
       "<table border=\"1\" class=\"dataframe\">\n",
       "  <thead>\n",
       "    <tr style=\"text-align: right;\">\n",
       "      <th>member_casual</th>\n",
       "      <th>casual</th>\n",
       "      <th>member</th>\n",
       "    </tr>\n",
       "    <tr>\n",
       "      <th>weekday</th>\n",
       "      <th></th>\n",
       "      <th></th>\n",
       "    </tr>\n",
       "  </thead>\n",
       "  <tbody>\n",
       "    <tr>\n",
       "      <th>0</th>\n",
       "      <td>99574</td>\n",
       "      <td>158141</td>\n",
       "    </tr>\n",
       "    <tr>\n",
       "      <th>1</th>\n",
       "      <td>91115</td>\n",
       "      <td>181708</td>\n",
       "    </tr>\n",
       "    <tr>\n",
       "      <th>2</th>\n",
       "      <td>94853</td>\n",
       "      <td>178525</td>\n",
       "    </tr>\n",
       "    <tr>\n",
       "      <th>3</th>\n",
       "      <td>99804</td>\n",
       "      <td>165187</td>\n",
       "    </tr>\n",
       "    <tr>\n",
       "      <th>4</th>\n",
       "      <td>124284</td>\n",
       "      <td>155816</td>\n",
       "    </tr>\n",
       "    <tr>\n",
       "      <th>5</th>\n",
       "      <td>200517</td>\n",
       "      <td>154107</td>\n",
       "    </tr>\n",
       "    <tr>\n",
       "      <th>6</th>\n",
       "      <td>183355</td>\n",
       "      <td>142449</td>\n",
       "    </tr>\n",
       "  </tbody>\n",
       "</table>\n",
       "</div>"
      ],
      "text/plain": [
       "member_casual  casual  member\n",
       "weekday                      \n",
       "0               99574  158141\n",
       "1               91115  181708\n",
       "2               94853  178525\n",
       "3               99804  165187\n",
       "4              124284  155816\n",
       "5              200517  154107\n",
       "6              183355  142449"
      ]
     },
     "execution_count": 123,
     "metadata": {},
     "output_type": "execute_result"
    }
   ],
   "source": [
    "viz3 = data.pivot_table(values='started_at', index='weekday',\n",
    "    columns='member_casual',\n",
    "    aggfunc='count')\n",
    "viz3"
   ]
  },
  {
   "cell_type": "code",
   "execution_count": 67,
   "id": "9457de09",
   "metadata": {},
   "outputs": [
    {
     "data": {
      "text/plain": [
       "1111.1662940670678"
      ]
     },
     "execution_count": 67,
     "metadata": {},
     "output_type": "execute_result"
    }
   ],
   "source": [
    "data.trip_duration_seconds.mean()"
   ]
  },
  {
   "cell_type": "code",
   "execution_count": 71,
   "id": "e27c7242",
   "metadata": {},
   "outputs": [
    {
     "data": {
      "text/plain": [
       "86399"
      ]
     },
     "execution_count": 71,
     "metadata": {},
     "output_type": "execute_result"
    }
   ],
   "source": [
    "data.trip_duration_seconds.max()"
   ]
  },
  {
   "cell_type": "code",
   "execution_count": 72,
   "id": "2f9796f4",
   "metadata": {},
   "outputs": [
    {
     "data": {
      "text/plain": [
       "0    5\n",
       "dtype: int64"
      ]
     },
     "execution_count": 72,
     "metadata": {},
     "output_type": "execute_result"
    }
   ],
   "source": [
    "data.weekday.mode()"
   ]
  },
  {
   "cell_type": "markdown",
   "id": "3709d02c",
   "metadata": {},
   "source": [
    "#Data Viz "
   ]
  },
  {
   "cell_type": "code",
   "execution_count": 14,
   "id": "d5a70860",
   "metadata": {},
   "outputs": [],
   "source": [
    "import matplotlib.pyplot as plt \n",
    "import seaborn as sns\n",
    "%matplotlib inline\n",
    "sns.set_style('dark')"
   ]
  },
  {
   "cell_type": "code",
   "execution_count": 96,
   "id": "61033fe9",
   "metadata": {},
   "outputs": [
    {
     "data": {
      "image/png": "[encoded data removed]",
      "text/plain": [
       "<Figure size 360x216 with 1 Axes>"
      ]
     },
     "metadata": {},
     "output_type": "display_data"
    },
    {
     "data": {
      "text/plain": [
       "<Figure size 432x288 with 0 Axes>"
      ]
     },
     "metadata": {},
     "output_type": "display_data"
    }
   ],
   "source": [
    "plt.figure(figsize=(5,3))\n",
    "ret = plt.barh(viz1.index, viz1.values,height=0.3)\n",
    "ret[1].set_color('tan')\n",
    "ret[0].set_color('darkred')\n",
    "#viz1.plot(kind='bar')\n",
    "plt.title(\"Avg trip duration (Sec)\")\n",
    "#for px,py in enumerate(viz1.values):\n",
    "    #plt.annotate(px, xy=(px,py))\n",
    "plt.show()\n",
    "plt.savefig('Avg trip duration2')"
   ]
  },
  {
   "cell_type": "code",
   "execution_count": 94,
   "id": "f0e8f7f3",
   "metadata": {},
   "outputs": [
    {
     "name": "stdout",
     "output_type": "stream",
     "text": [
      "1556.4180192098058 0\n",
      "760.9402623218094 1\n"
     ]
    }
   ],
   "source": [
    "for px,py in enumerate(viz1.values):\n",
    "    print(py,px)"
   ]
  },
  {
   "cell_type": "code",
   "execution_count": 109,
   "id": "7b7b06f4",
   "metadata": {},
   "outputs": [
    {
     "data": {
      "text/html": [
       "<div>\n",
       "<style scoped>\n",
       "    .dataframe tbody tr th:only-of-type {\n",
       "        vertical-align: middle;\n",
       "    }\n",
       "\n",
       "    .dataframe tbody tr th {\n",
       "        vertical-align: top;\n",
       "    }\n",
       "\n",
       "    .dataframe thead th {\n",
       "        text-align: right;\n",
       "    }\n",
       "</style>\n",
       "<table border=\"1\" class=\"dataframe\">\n",
       "  <thead>\n",
       "    <tr style=\"text-align: right;\">\n",
       "      <th>member_casual</th>\n",
       "      <th>weekday</th>\n",
       "      <th>casual</th>\n",
       "      <th>member</th>\n",
       "    </tr>\n",
       "  </thead>\n",
       "  <tbody>\n",
       "    <tr>\n",
       "      <th>0</th>\n",
       "      <td>0</td>\n",
       "      <td>1565.613945</td>\n",
       "      <td>729.461019</td>\n",
       "    </tr>\n",
       "    <tr>\n",
       "      <th>1</th>\n",
       "      <td>1</td>\n",
       "      <td>1333.293739</td>\n",
       "      <td>697.230397</td>\n",
       "    </tr>\n",
       "    <tr>\n",
       "      <th>2</th>\n",
       "      <td>2</td>\n",
       "      <td>1315.967170</td>\n",
       "      <td>730.009595</td>\n",
       "    </tr>\n",
       "    <tr>\n",
       "      <th>3</th>\n",
       "      <td>3</td>\n",
       "      <td>1341.768787</td>\n",
       "      <td>715.372753</td>\n",
       "    </tr>\n",
       "    <tr>\n",
       "      <th>4</th>\n",
       "      <td>4</td>\n",
       "      <td>1465.901331</td>\n",
       "      <td>743.216563</td>\n",
       "    </tr>\n",
       "    <tr>\n",
       "      <th>5</th>\n",
       "      <td>5</td>\n",
       "      <td>1694.237396</td>\n",
       "      <td>855.234649</td>\n",
       "    </tr>\n",
       "    <tr>\n",
       "      <th>6</th>\n",
       "      <td>6</td>\n",
       "      <td>1814.165439</td>\n",
       "      <td>886.136084</td>\n",
       "    </tr>\n",
       "  </tbody>\n",
       "</table>\n",
       "</div>"
      ],
      "text/plain": [
       "member_casual  weekday       casual      member\n",
       "0                    0  1565.613945  729.461019\n",
       "1                    1  1333.293739  697.230397\n",
       "2                    2  1315.967170  730.009595\n",
       "3                    3  1341.768787  715.372753\n",
       "4                    4  1465.901331  743.216563\n",
       "5                    5  1694.237396  855.234649\n",
       "6                    6  1814.165439  886.136084"
      ]
     },
     "execution_count": 109,
     "metadata": {},
     "output_type": "execute_result"
    }
   ],
   "source": [
    "viz2 = viz2.reset_index()\n",
    "1565+1333+1315+1341+1465 "
   ]
  },
  {
   "cell_type": "code",
   "execution_count": 127,
   "id": "d091dc7c",
   "metadata": {},
   "outputs": [
    {
     "data": {
      "image/png": "[encoded data removed]",
      "text/plain": [
       "<Figure size 432x288 with 1 Axes>"
      ]
     },
     "metadata": {},
     "output_type": "display_data"
    }
   ],
   "source": [
    "sns.lineplot(x='weekday',y='casual',data=viz2)\n",
    "sns.lineplot(x='weekday',y='member',data=viz2)\n",
    "plt.legend(['Casual','Member'])\n",
    "plt.ylabel('Avg Trip Duration')\n",
    "plt.title('Average trip duration (casual vs member)')\n",
    "plt.savefig('Average trip duration (casual vs member)')"
   ]
  },
  {
   "cell_type": "code",
   "execution_count": 124,
   "id": "b2f5b231",
   "metadata": {},
   "outputs": [
    {
     "data": {
      "text/html": [
       "<div>\n",
       "<style scoped>\n",
       "    .dataframe tbody tr th:only-of-type {\n",
       "        vertical-align: middle;\n",
       "    }\n",
       "\n",
       "    .dataframe tbody tr th {\n",
       "        vertical-align: top;\n",
       "    }\n",
       "\n",
       "    .dataframe thead th {\n",
       "        text-align: right;\n",
       "    }\n",
       "</style>\n",
       "<table border=\"1\" class=\"dataframe\">\n",
       "  <thead>\n",
       "    <tr style=\"text-align: right;\">\n",
       "      <th>member_casual</th>\n",
       "      <th>weekday</th>\n",
       "      <th>casual</th>\n",
       "      <th>member</th>\n",
       "    </tr>\n",
       "  </thead>\n",
       "  <tbody>\n",
       "    <tr>\n",
       "      <th>0</th>\n",
       "      <td>0</td>\n",
       "      <td>99574</td>\n",
       "      <td>158141</td>\n",
       "    </tr>\n",
       "    <tr>\n",
       "      <th>1</th>\n",
       "      <td>1</td>\n",
       "      <td>91115</td>\n",
       "      <td>181708</td>\n",
       "    </tr>\n",
       "    <tr>\n",
       "      <th>2</th>\n",
       "      <td>2</td>\n",
       "      <td>94853</td>\n",
       "      <td>178525</td>\n",
       "    </tr>\n",
       "    <tr>\n",
       "      <th>3</th>\n",
       "      <td>3</td>\n",
       "      <td>99804</td>\n",
       "      <td>165187</td>\n",
       "    </tr>\n",
       "    <tr>\n",
       "      <th>4</th>\n",
       "      <td>4</td>\n",
       "      <td>124284</td>\n",
       "      <td>155816</td>\n",
       "    </tr>\n",
       "    <tr>\n",
       "      <th>5</th>\n",
       "      <td>5</td>\n",
       "      <td>200517</td>\n",
       "      <td>154107</td>\n",
       "    </tr>\n",
       "    <tr>\n",
       "      <th>6</th>\n",
       "      <td>6</td>\n",
       "      <td>183355</td>\n",
       "      <td>142449</td>\n",
       "    </tr>\n",
       "  </tbody>\n",
       "</table>\n",
       "</div>"
      ],
      "text/plain": [
       "member_casual  weekday  casual  member\n",
       "0                    0   99574  158141\n",
       "1                    1   91115  181708\n",
       "2                    2   94853  178525\n",
       "3                    3   99804  165187\n",
       "4                    4  124284  155816\n",
       "5                    5  200517  154107\n",
       "6                    6  183355  142449"
      ]
     },
     "execution_count": 124,
     "metadata": {},
     "output_type": "execute_result"
    }
   ],
   "source": [
    "viz3 = viz3.reset_index()\n",
    "viz3"
   ]
  },
  {
   "cell_type": "code",
   "execution_count": 128,
   "id": "57dd5ed9",
   "metadata": {},
   "outputs": [
    {
     "data": {
      "image/png": "[encoded data removed]",
      "text/plain": [
       "<Figure size 432x288 with 1 Axes>"
      ]
     },
     "metadata": {},
     "output_type": "display_data"
    }
   ],
   "source": [
    "sns.lineplot(x='weekday',y='casual',data=viz3)\n",
    "sns.lineplot(x='weekday',y='member',data=viz3)\n",
    "plt.legend(['Casual','Member'])\n",
    "plt.ylabel('Number of trips')\n",
    "plt.title('Number of trips (Casual vs Member)')\n",
    "plt.savefig('Number of trips (Casual vs Member)')"
   ]
  },
  {
   "cell_type": "code",
   "execution_count": 98,
   "id": "db2e0e3c",
   "metadata": {},
   "outputs": [
    {
     "data": {
      "image/png": "[encoded data removed]",
      "text/plain": [
       "<Figure size 432x288 with 1 Axes>"
      ]
     },
     "metadata": {},
     "output_type": "display_data"
    }
   ],
   "source": [
    "plt.pie(x=viz4.values, labels=viz4.index, wedgeprops={'edgecolor':'white'}, autopct='%1.0f%%')\n",
    "plt.title('Casual Vs Member')\n",
    "plt.savefig('pie1')"
   ]
  },
  {
   "cell_type": "code",
   "execution_count": null,
   "id": "8ac9a178",
   "metadata": {},
   "outputs": [],
   "source": [
    "Recommendations \n",
    "1. Mailing the casual riders about membership offer and also mailing them the stats on how much they can \n",
    "    save by opting membership. \n",
    "2. Discount offer ad on social media platform for casual riders and also mailing them the same. \n"
   ]
  },
  {
   "cell_type": "code",
   "execution_count": null,
   "id": "abc71442",
   "metadata": {},
   "outputs": [],
   "source": []
  },
  {
   "cell_type": "code",
   "execution_count": null,
   "id": "e025cfd1",
   "metadata": {},
   "outputs": [],
   "source": [
    "Additional Data Analysis"
   ]
  },
  {
   "cell_type": "code",
   "execution_count": 79,
   "id": "a9d4fc55",
   "metadata": {},
   "outputs": [
    {
     "data": {
      "text/plain": [
       "start_station_name\n",
       "Streeter Dr & Grand Ave               33121\n",
       "DuSable Lake Shore Dr & North Blvd    19238\n",
       "Wells St & Concord Ln                 18840\n",
       "Michigan Ave & Oak St                 18044\n",
       "Clark St & Elm St                     16818\n",
       "Millennium Park                       16692\n",
       "DuSable Lake Shore Dr & Monroe St     16356\n",
       "Wells St & Elm St                     16027\n",
       "Theater on the Lake                   14896\n",
       "Kingsbury St & Kinzie St              14405\n",
       "Clark St & Lincoln Ave                13698\n",
       "Clark St & Armitage Ave               13664\n",
       "Broadway & Barry Ave                  13371\n",
       "Wells St & Huron St                   13123\n",
       "Dearborn St & Erie St                 12989\n",
       "Wabash Ave & Grand Ave                12914\n",
       "St. Clair St & Erie St                12605\n",
       "Wilton Ave & Belmont Ave              12213\n",
       "Green St & Madison St                 12115\n",
       "Larrabee St & Webster Ave             11656\n",
       "New St & Illinois St                  11480\n",
       "Shedd Aquarium                        11242\n",
       "Clark St & Wrightwood Ave             11143\n",
       "Clinton St & Madison St               11122\n",
       "Indiana Ave & Roosevelt Rd            11085\n",
       "Wells St & Evergreen Ave              10940\n",
       "Ashland Ave & Division St             10877\n",
       "LaSalle St & Illinois St              10807\n",
       "Fairbanks Ct & Grand Ave              10695\n",
       "Desplaines St & Kinzie St             10637\n",
       "Name: started_at, dtype: int64"
      ]
     },
     "execution_count": 79,
     "metadata": {},
     "output_type": "execute_result"
    }
   ],
   "source": [
    "data.groupby(['start_station_name']).started_at.count().sort_values(ascending=False).head(30)"
   ]
  },
  {
   "cell_type": "code",
   "execution_count": 81,
   "id": "0bf006e5",
   "metadata": {},
   "outputs": [
    {
     "data": {
      "text/plain": [
       "start_station_name\n",
       "Central Park Blvd & 5th Ave     7303.467742\n",
       "Latrobe Ave & Chicago Ave       6816.526316\n",
       "Racine Ave & 65th St            4938.565217\n",
       "Kedzie Ave & 110th St           4886.868421\n",
       "Marquette Ave & 89th St         4702.086957\n",
       "Pulaski Rd & Congress Pkwy      4213.210526\n",
       "Calumet Park                    4169.539130\n",
       "Rhodes Ave & 71st St            4088.333333\n",
       "Rainbow Beach                   3982.186047\n",
       "Western Ave & 111th St          3959.523077\n",
       "Eberhart Ave & 131st St         3901.923077\n",
       "Phillips Ave & 79th St          3815.070707\n",
       "Commercial Ave & 100th St       3733.071429\n",
       "Ewing Ave & Burnham Greenway    3713.400000\n",
       "May St & 69th St                3617.357143\n",
       "Cicero Ave & Lake St            3485.830189\n",
       "Richmond St & 59th St           3474.615385\n",
       "Ada St & 113th St               3442.045455\n",
       "Lawndale Ave & 111th St         3393.011236\n",
       "Clyde Ave & 87th St             3374.132075\n",
       "Halsted St & 73rd St            3358.478261\n",
       "Burnham Greenway & 105th St     3326.164179\n",
       "Ashland Ave & 66th St           3296.413793\n",
       "Phillips Ave & 83rd St          3291.775000\n",
       "Kenton Ave & Madison St         3253.400000\n",
       "Karlov Ave & Madison St         3245.574074\n",
       "Ellis Ave & 83rd St             3200.628571\n",
       "Kedzie Ave & Roosevelt Rd       3170.076336\n",
       "Halsted St & 104th St           3143.769231\n",
       "Hale Ave & 107th St             3130.631579\n",
       "Name: trip_duration_seconds, dtype: float64"
      ]
     },
     "execution_count": 81,
     "metadata": {},
     "output_type": "execute_result"
    }
   ],
   "source": [
    "data.groupby(['start_station_name']).trip_duration_seconds.mean().sort_values(ascending=False).head(30)"
   ]
  },
  {
   "cell_type": "code",
   "execution_count": 83,
   "id": "502fb4e6",
   "metadata": {},
   "outputs": [
    {
     "data": {
      "text/html": [
       "<div>\n",
       "<style scoped>\n",
       "    .dataframe tbody tr th:only-of-type {\n",
       "        vertical-align: middle;\n",
       "    }\n",
       "\n",
       "    .dataframe tbody tr th {\n",
       "        vertical-align: top;\n",
       "    }\n",
       "\n",
       "    .dataframe thead th {\n",
       "        text-align: right;\n",
       "    }\n",
       "</style>\n",
       "<table border=\"1\" class=\"dataframe\">\n",
       "  <thead>\n",
       "    <tr style=\"text-align: right;\">\n",
       "      <th>member_casual</th>\n",
       "      <th>casual</th>\n",
       "      <th>member</th>\n",
       "    </tr>\n",
       "    <tr>\n",
       "      <th>start_station_name</th>\n",
       "      <th></th>\n",
       "      <th></th>\n",
       "    </tr>\n",
       "  </thead>\n",
       "  <tbody>\n",
       "    <tr>\n",
       "      <th>Central Park Blvd &amp; 5th Ave</th>\n",
       "      <td>13191.161290</td>\n",
       "      <td>1415.774194</td>\n",
       "    </tr>\n",
       "    <tr>\n",
       "      <th>Latrobe Ave &amp; Chicago Ave</th>\n",
       "      <td>8557.137931</td>\n",
       "      <td>1207.888889</td>\n",
       "    </tr>\n",
       "    <tr>\n",
       "      <th>Racine Ave &amp; 65th St</th>\n",
       "      <td>6321.647059</td>\n",
       "      <td>1019.833333</td>\n",
       "    </tr>\n",
       "    <tr>\n",
       "      <th>Austin Blvd &amp; Chicago Ave</th>\n",
       "      <td>5782.914894</td>\n",
       "      <td>954.754098</td>\n",
       "    </tr>\n",
       "    <tr>\n",
       "      <th>Kedzie Ave &amp; 110th St</th>\n",
       "      <td>5718.322581</td>\n",
       "      <td>1204.714286</td>\n",
       "    </tr>\n",
       "  </tbody>\n",
       "</table>\n",
       "</div>"
      ],
      "text/plain": [
       "member_casual                      casual       member\n",
       "start_station_name                                    \n",
       "Central Park Blvd & 5th Ave  13191.161290  1415.774194\n",
       "Latrobe Ave & Chicago Ave     8557.137931  1207.888889\n",
       "Racine Ave & 65th St          6321.647059  1019.833333\n",
       "Austin Blvd & Chicago Ave     5782.914894   954.754098\n",
       "Kedzie Ave & 110th St         5718.322581  1204.714286"
      ]
     },
     "execution_count": 83,
     "metadata": {},
     "output_type": "execute_result"
    }
   ],
   "source": [
    "data.pivot_table(values='trip_duration_seconds', index='start_station_name',\n",
    "    columns='member_casual',\n",
    "    aggfunc='mean').sort_values(by='casual',ascending=False).head()"
   ]
  },
  {
   "cell_type": "code",
   "execution_count": null,
   "id": "d83c444e",
   "metadata": {},
   "outputs": [],
   "source": []
  }
 ],
 "metadata": {
  "kernelspec": {
   "display_name": "Python 3",
   "language": "python",
   "name": "python3"
  },
  "language_info": {
   "codemirror_mode": {
    "name": "ipython",
    "version": 3
   },
   "file_extension": ".py",
   "mimetype": "text/x-python",
   "name": "python",
   "nbconvert_exporter": "python",
   "pygments_lexer": "ipython3",
   "version": "3.7.10"
  }
 },
 "nbformat": 4,
 "nbformat_minor": 5
}
